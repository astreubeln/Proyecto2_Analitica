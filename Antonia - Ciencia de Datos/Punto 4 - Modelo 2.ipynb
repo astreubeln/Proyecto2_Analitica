{
 "cells": [
  {
   "cell_type": "code",
   "execution_count": 9,
   "id": "44a0b5cc",
   "metadata": {},
   "outputs": [],
   "source": [
    "from sklearn.model_selection import train_test_split\n",
    "from sklearn.preprocessing import StandardScaler, LabelEncoder\n",
    "from tensorflow.keras.models import Sequential\n",
    "from tensorflow.keras.layers import Dense\n",
    "from tensorflow.keras.optimizers import Adam\n",
    "from tensorflow.keras.utils import to_categorical\n",
    "import pandas as pd"
   ]
  },
  {
   "cell_type": "code",
   "execution_count": 10,
   "id": "b0a2ecf8",
   "metadata": {},
   "outputs": [],
   "source": [
    "# Cargar el archivo Excel\n",
    "df = pd.read_csv('df_limpio.csv')\n",
    "\n",
    "X_dummies = df[[\n",
    "    'FAMI_TIENELAVADORA_Si','FAMI_TIENEAUTOMOVIL_Si','FAMI_TIENECOMPUTADOR_Si',\n",
    "]]\n",
    "X_categoricas = df[[\n",
    "    'ESTU_COD_RESIDE_MCPIO','FAMI_PERSONASHOGAR','ESTU_COD_MCPIO_PRESENTACION','ESTU_TIPODOCUMENTO','FAMI_CUARTOSHOGAR','FAMI_EDUCACIONMADRE','FAMI_ESTRATOVIVIENDA','COLE_AREA_UBICACION_URBANO'\n",
    "]]\n",
    "X_categoricas_dummified = pd.get_dummies(X_categoricas, drop_first=True)\n",
    "\n",
    "X = pd.concat([X_dummies, X_categoricas_dummified], axis=1)"
   ]
  },
  {
   "cell_type": "code",
   "execution_count": 11,
   "id": "e47ce850",
   "metadata": {},
   "outputs": [],
   "source": [
    "# Prepara tus datos (reemplaza con tu df real)\n",
    "y = df['ALTO_RENDIMIENTO_MATE']  "
   ]
  },
  {
   "cell_type": "code",
   "execution_count": 12,
   "id": "7983cbd5",
   "metadata": {},
   "outputs": [],
   "source": [
    "# Codificación de variable objetivo\n",
    "label_encoder = LabelEncoder()\n",
    "y_encoded = label_encoder.fit_transform(y)\n",
    "y_cat = to_categorical(y_encoded)"
   ]
  },
  {
   "cell_type": "code",
   "execution_count": 13,
   "id": "c88bcbf0",
   "metadata": {},
   "outputs": [],
   "source": [
    "# Escalamiento y split\n",
    "scaler = StandardScaler()\n",
    "X_scaled = scaler.fit_transform(X)\n",
    "X_train, X_test, y_train, y_test = train_test_split(X_scaled, y_cat, test_size=0.2, random_state=42)"
   ]
  },
  {
   "cell_type": "code",
   "execution_count": 14,
   "id": "5a67c1aa",
   "metadata": {},
   "outputs": [],
   "source": [
    "# Espacios de hiperparámetros\n",
    "param_grid = {\n",
    "    'hidden_layers': [1, 2],\n",
    "    'neurons': [32, 64],\n",
    "    'learning_rate': [0.001, 0.01],\n",
    "    'activation': ['relu', 'tanh'],\n",
    "    'batch_size': [32, 64],\n",
    "    'epochs': [50, 100]\n",
    "}"
   ]
  },
  {
   "cell_type": "code",
   "execution_count": 15,
   "id": "212da9c8",
   "metadata": {},
   "outputs": [
    {
     "name": "stdout",
     "output_type": "stream",
     "text": [
      "Iteración 1 de 64...\r"
     ]
    },
    {
     "name": "stderr",
     "output_type": "stream",
     "text": [
      "c:\\Users\\anton\\AppData\\Local\\Programs\\Python\\Python311\\Lib\\site-packages\\keras\\src\\layers\\core\\dense.py:87: UserWarning: Do not pass an `input_shape`/`input_dim` argument to a layer. When using Sequential models, prefer using an `Input(shape)` object as the first layer in the model instead.\n",
      "  super().__init__(activity_regularizer=activity_regularizer, **kwargs)\n"
     ]
    },
    {
     "name": "stdout",
     "output_type": "stream",
     "text": [
      "Iteración 64 de 64...\r"
     ]
    }
   ],
   "source": [
    "# Entrenamiento con búsqueda\n",
    "resultados = []\n",
    "\n",
    "# Calcular número total de combinaciones\n",
    "total_iteraciones = (\n",
    "    len(param_grid['hidden_layers']) *\n",
    "    len(param_grid['neurons']) *\n",
    "    len(param_grid['learning_rate']) *\n",
    "    len(param_grid['activation']) *\n",
    "    len(param_grid['batch_size']) *\n",
    "    len(param_grid['epochs'])\n",
    ")\n",
    "\n",
    "# Inicializar contador\n",
    "iteracion = 1\n",
    "\n",
    "for hl in param_grid['hidden_layers']:\n",
    "    for neurons in param_grid['neurons']:\n",
    "        for lr in param_grid['learning_rate']:\n",
    "            for activation in param_grid['activation']:\n",
    "                for batch in param_grid['batch_size']:\n",
    "                    for ep in param_grid['epochs']:\n",
    "\n",
    "                        print(f\"Iteración {iteracion} de {total_iteraciones}...\", end='\\r')\n",
    "\n",
    "                        model = Sequential()\n",
    "                        model.add(Dense(neurons, activation=activation, input_shape=(X_train.shape[1],)))\n",
    "                        for _ in range(hl - 1):\n",
    "                            model.add(Dense(neurons, activation=activation))\n",
    "                        model.add(Dense(y_cat.shape[1], activation='softmax'))\n",
    "\n",
    "                        model.compile(optimizer=Adam(learning_rate=lr),\n",
    "                                      loss='categorical_crossentropy',\n",
    "                                      metrics=['accuracy'])\n",
    "\n",
    "                        history = model.fit(X_train, y_train, epochs=ep,\n",
    "                                            batch_size=batch, validation_split=0.2,\n",
    "                                            verbose=0)\n",
    "\n",
    "                        acc = history.history['val_accuracy'][-1]\n",
    "\n",
    "                        resultados.append({\n",
    "                            'Capas ocultas': hl,\n",
    "                            'Neuronas': neurons,\n",
    "                            'LR': lr,\n",
    "                            'Activación': activation,\n",
    "                            'Batch Size': batch,\n",
    "                            'Epochs': ep,\n",
    "                            'Val Accuracy': round(acc, 4)\n",
    "                        })\n",
    "\n",
    "                        iteracion += 1"
   ]
  },
  {
   "cell_type": "code",
   "execution_count": 16,
   "id": "4be9dbc0",
   "metadata": {},
   "outputs": [
    {
     "name": "stdout",
     "output_type": "stream",
     "text": [
      "   Capas ocultas  Neuronas     LR Activación  Batch Size  Epochs  Val Accuracy\n",
      "0              1        32  0.001       relu          32      50        0.7034\n",
      "1              1        32  0.001       relu          32     100        0.7034\n",
      "2              1        32  0.001       relu          64      50        0.7034\n",
      "3              1        32  0.001       relu          64     100        0.7034\n",
      "4              1        32  0.001       tanh          32      50        0.7034\n",
      "5              1        32  0.001       tanh          32     100        0.7034\n",
      "6              1        32  0.001       tanh          64      50        0.7034\n",
      "7              1        32  0.001       tanh          64     100        0.7034\n",
      "8              1        32  0.010       relu          32      50        0.7034\n",
      "9              1        32  0.010       relu          32     100        0.7034\n"
     ]
    }
   ],
   "source": [
    "# Mostrar resultados ordenados\n",
    "resultados_df = pd.DataFrame(resultados).sort_values(by='Val Accuracy', ascending=False)\n",
    "print(resultados_df.head(10))"
   ]
  }
 ],
 "metadata": {
  "kernelspec": {
   "display_name": "Python 3",
   "language": "python",
   "name": "python3"
  },
  "language_info": {
   "codemirror_mode": {
    "name": "ipython",
    "version": 3
   },
   "file_extension": ".py",
   "mimetype": "text/x-python",
   "name": "python",
   "nbconvert_exporter": "python",
   "pygments_lexer": "ipython3",
   "version": "3.11.9"
  }
 },
 "nbformat": 4,
 "nbformat_minor": 5
}
