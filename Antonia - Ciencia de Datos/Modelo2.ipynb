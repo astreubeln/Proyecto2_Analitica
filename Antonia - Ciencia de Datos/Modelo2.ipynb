{
 "cells": [
  {
   "cell_type": "code",
   "execution_count": 34,
   "id": "202cb991",
   "metadata": {},
   "outputs": [],
   "source": [
    "from sklearn.model_selection import train_test_split\n",
    "from sklearn.preprocessing import StandardScaler, LabelEncoder\n",
    "from tensorflow.keras.models import Sequential\n",
    "from tensorflow.keras.layers import Dense\n",
    "from tensorflow.keras.optimizers import Adam\n",
    "from tensorflow.keras.utils import to_categorical\n",
    "import pandas as pd\n",
    "import tensorflow as tf\n",
    "import numpy as np\n",
    "import pickle"
   ]
  },
  {
   "cell_type": "code",
   "execution_count": 35,
   "id": "d59e7eb9",
   "metadata": {},
   "outputs": [],
   "source": [
    "# Cargar el archivo Excel\n",
    "df = pd.read_csv(r'C:\\Users\\anton\\OneDrive - Universidad de los andes\\Antonia Streubel\\ANDES\\7. Semestre\\Analítica Computacional\\Proyecto 2\\df_limpio.csv')\n",
    "df_dummies = pd.get_dummies(df)\n",
    "columnas_modelo = df_dummies.columns.tolist()\n",
    "\n",
    "X_dummies = df[[\n",
    "    'FAMI_TIENELAVADORA_Si','FAMI_TIENEAUTOMOVIL_Si','FAMI_TIENECOMPUTADOR_Si',\n",
    "]]\n",
    "X_categoricas = df[[\n",
    "    'ESTU_COD_RESIDE_MCPIO','FAMI_PERSONASHOGAR','ESTU_COD_MCPIO_PRESENTACION','ESTU_TIPODOCUMENTO','FAMI_CUARTOSHOGAR','FAMI_EDUCACIONMADRE','FAMI_ESTRATOVIVIENDA','COLE_AREA_UBICACION_URBANO'\n",
    "]]\n",
    "X_categoricas_dummified = pd.get_dummies(X_categoricas, drop_first=True)\n",
    "\n",
    "X = pd.concat([X_dummies, X_categoricas_dummified], axis=1)"
   ]
  },
  {
   "cell_type": "code",
   "execution_count": 36,
   "id": "cf91452b",
   "metadata": {},
   "outputs": [],
   "source": [
    "# Prepara tus datos (reemplaza con tu df real)\n",
    "y = df['ALTO_RENDIMIENTO_MATE']  "
   ]
  },
  {
   "cell_type": "code",
   "execution_count": 37,
   "id": "d7f5f65c",
   "metadata": {},
   "outputs": [],
   "source": [
    "# Codificación de variable objetivo\n",
    "label_encoder = LabelEncoder()\n",
    "y_encoded = label_encoder.fit_transform(y)\n",
    "y_cat = to_categorical(y_encoded)"
   ]
  },
  {
   "cell_type": "code",
   "execution_count": 38,
   "id": "2d7e2d17",
   "metadata": {},
   "outputs": [],
   "source": [
    "# Escalamiento y split\n",
    "scaler = StandardScaler()\n",
    "X_scaled = scaler.fit_transform(X)\n",
    "X_train, X_test, y_train, y_test = train_test_split(X_scaled, y_cat, test_size=0.2, random_state=42)"
   ]
  },
  {
   "cell_type": "code",
   "execution_count": 39,
   "id": "29017b8b",
   "metadata": {},
   "outputs": [],
   "source": [
    "#Capa de normalizacion\n",
    "norm = tf.keras.layers.Normalization()\n",
    "# Adaptar la capa de normalización a los datos de entrenamiento\n",
    "norm.adapt(np.array(X_train))"
   ]
  },
  {
   "cell_type": "code",
   "execution_count": 40,
   "id": "054656e4",
   "metadata": {},
   "outputs": [
    {
     "name": "stdout",
     "output_type": "stream",
     "text": [
      "Epoch 1/50\n"
     ]
    },
    {
     "name": "stderr",
     "output_type": "stream",
     "text": [
      "c:\\Users\\anton\\AppData\\Local\\Programs\\Python\\Python311\\Lib\\site-packages\\keras\\src\\layers\\core\\dense.py:87: UserWarning: Do not pass an `input_shape`/`input_dim` argument to a layer. When using Sequential models, prefer using an `Input(shape)` object as the first layer in the model instead.\n",
      "  super().__init__(activity_regularizer=activity_regularizer, **kwargs)\n"
     ]
    },
    {
     "name": "stdout",
     "output_type": "stream",
     "text": [
      "\u001b[1m2246/2246\u001b[0m \u001b[32m━━━━━━━━━━━━━━━━━━━━\u001b[0m\u001b[37m\u001b[0m \u001b[1m5s\u001b[0m 2ms/step - accuracy: 0.7103 - loss: 0.6266 - val_accuracy: 0.7034 - val_loss: 0.6082\n",
      "Epoch 2/50\n",
      "\u001b[1m2246/2246\u001b[0m \u001b[32m━━━━━━━━━━━━━━━━━━━━\u001b[0m\u001b[37m\u001b[0m \u001b[1m4s\u001b[0m 2ms/step - accuracy: 0.7103 - loss: 0.6019 - val_accuracy: 0.7034 - val_loss: 0.6082\n",
      "Epoch 3/50\n",
      "\u001b[1m2246/2246\u001b[0m \u001b[32m━━━━━━━━━━━━━━━━━━━━\u001b[0m\u001b[37m\u001b[0m \u001b[1m4s\u001b[0m 2ms/step - accuracy: 0.7095 - loss: 0.6027 - val_accuracy: 0.7034 - val_loss: 0.6080\n",
      "Epoch 4/50\n",
      "\u001b[1m2246/2246\u001b[0m \u001b[32m━━━━━━━━━━━━━━━━━━━━\u001b[0m\u001b[37m\u001b[0m \u001b[1m4s\u001b[0m 2ms/step - accuracy: 0.7132 - loss: 0.5993 - val_accuracy: 0.7034 - val_loss: 0.6083\n",
      "Epoch 5/50\n",
      "\u001b[1m2246/2246\u001b[0m \u001b[32m━━━━━━━━━━━━━━━━━━━━\u001b[0m\u001b[37m\u001b[0m \u001b[1m4s\u001b[0m 2ms/step - accuracy: 0.7079 - loss: 0.6041 - val_accuracy: 0.7034 - val_loss: 0.6081\n",
      "Epoch 6/50\n",
      "\u001b[1m2246/2246\u001b[0m \u001b[32m━━━━━━━━━━━━━━━━━━━━\u001b[0m\u001b[37m\u001b[0m \u001b[1m4s\u001b[0m 2ms/step - accuracy: 0.7102 - loss: 0.6020 - val_accuracy: 0.7034 - val_loss: 0.6081\n",
      "Epoch 7/50\n",
      "\u001b[1m2246/2246\u001b[0m \u001b[32m━━━━━━━━━━━━━━━━━━━━\u001b[0m\u001b[37m\u001b[0m \u001b[1m4s\u001b[0m 2ms/step - accuracy: 0.7109 - loss: 0.6014 - val_accuracy: 0.7034 - val_loss: 0.6081\n",
      "Epoch 8/50\n",
      "\u001b[1m2246/2246\u001b[0m \u001b[32m━━━━━━━━━━━━━━━━━━━━\u001b[0m\u001b[37m\u001b[0m \u001b[1m4s\u001b[0m 2ms/step - accuracy: 0.7093 - loss: 0.6028 - val_accuracy: 0.7034 - val_loss: 0.6080\n",
      "Epoch 9/50\n",
      "\u001b[1m2246/2246\u001b[0m \u001b[32m━━━━━━━━━━━━━━━━━━━━\u001b[0m\u001b[37m\u001b[0m \u001b[1m4s\u001b[0m 2ms/step - accuracy: 0.7144 - loss: 0.5982 - val_accuracy: 0.7034 - val_loss: 0.6080\n",
      "Epoch 10/50\n",
      "\u001b[1m2246/2246\u001b[0m \u001b[32m━━━━━━━━━━━━━━━━━━━━\u001b[0m\u001b[37m\u001b[0m \u001b[1m4s\u001b[0m 2ms/step - accuracy: 0.7099 - loss: 0.6023 - val_accuracy: 0.7034 - val_loss: 0.6079\n",
      "Epoch 11/50\n",
      "\u001b[1m2246/2246\u001b[0m \u001b[32m━━━━━━━━━━━━━━━━━━━━\u001b[0m\u001b[37m\u001b[0m \u001b[1m4s\u001b[0m 2ms/step - accuracy: 0.7073 - loss: 0.6046 - val_accuracy: 0.7034 - val_loss: 0.6081\n",
      "Epoch 12/50\n",
      "\u001b[1m2246/2246\u001b[0m \u001b[32m━━━━━━━━━━━━━━━━━━━━\u001b[0m\u001b[37m\u001b[0m \u001b[1m4s\u001b[0m 2ms/step - accuracy: 0.7107 - loss: 0.6015 - val_accuracy: 0.7034 - val_loss: 0.6083\n",
      "Epoch 13/50\n",
      "\u001b[1m2246/2246\u001b[0m \u001b[32m━━━━━━━━━━━━━━━━━━━━\u001b[0m\u001b[37m\u001b[0m \u001b[1m4s\u001b[0m 2ms/step - accuracy: 0.7105 - loss: 0.6018 - val_accuracy: 0.7034 - val_loss: 0.6081\n",
      "Epoch 14/50\n",
      "\u001b[1m2246/2246\u001b[0m \u001b[32m━━━━━━━━━━━━━━━━━━━━\u001b[0m\u001b[37m\u001b[0m \u001b[1m4s\u001b[0m 2ms/step - accuracy: 0.7109 - loss: 0.6014 - val_accuracy: 0.7034 - val_loss: 0.6081\n",
      "Epoch 15/50\n",
      "\u001b[1m2246/2246\u001b[0m \u001b[32m━━━━━━━━━━━━━━━━━━━━\u001b[0m\u001b[37m\u001b[0m \u001b[1m4s\u001b[0m 2ms/step - accuracy: 0.7100 - loss: 0.6022 - val_accuracy: 0.7034 - val_loss: 0.6080\n",
      "Epoch 16/50\n",
      "\u001b[1m2246/2246\u001b[0m \u001b[32m━━━━━━━━━━━━━━━━━━━━\u001b[0m\u001b[37m\u001b[0m \u001b[1m4s\u001b[0m 2ms/step - accuracy: 0.7107 - loss: 0.6016 - val_accuracy: 0.7034 - val_loss: 0.6082\n",
      "Epoch 17/50\n",
      "\u001b[1m2246/2246\u001b[0m \u001b[32m━━━━━━━━━━━━━━━━━━━━\u001b[0m\u001b[37m\u001b[0m \u001b[1m4s\u001b[0m 2ms/step - accuracy: 0.7097 - loss: 0.6025 - val_accuracy: 0.7034 - val_loss: 0.6080\n",
      "Epoch 18/50\n",
      "\u001b[1m2246/2246\u001b[0m \u001b[32m━━━━━━━━━━━━━━━━━━━━\u001b[0m\u001b[37m\u001b[0m \u001b[1m4s\u001b[0m 2ms/step - accuracy: 0.7109 - loss: 0.6013 - val_accuracy: 0.7034 - val_loss: 0.6080\n",
      "Epoch 19/50\n",
      "\u001b[1m2246/2246\u001b[0m \u001b[32m━━━━━━━━━━━━━━━━━━━━\u001b[0m\u001b[37m\u001b[0m \u001b[1m4s\u001b[0m 2ms/step - accuracy: 0.7106 - loss: 0.6017 - val_accuracy: 0.7034 - val_loss: 0.6080\n",
      "Epoch 20/50\n",
      "\u001b[1m2246/2246\u001b[0m \u001b[32m━━━━━━━━━━━━━━━━━━━━\u001b[0m\u001b[37m\u001b[0m \u001b[1m4s\u001b[0m 2ms/step - accuracy: 0.7094 - loss: 0.6028 - val_accuracy: 0.7034 - val_loss: 0.6082\n",
      "Epoch 21/50\n",
      "\u001b[1m2246/2246\u001b[0m \u001b[32m━━━━━━━━━━━━━━━━━━━━\u001b[0m\u001b[37m\u001b[0m \u001b[1m4s\u001b[0m 2ms/step - accuracy: 0.7089 - loss: 0.6032 - val_accuracy: 0.7034 - val_loss: 0.6081\n",
      "Epoch 22/50\n",
      "\u001b[1m2246/2246\u001b[0m \u001b[32m━━━━━━━━━━━━━━━━━━━━\u001b[0m\u001b[37m\u001b[0m \u001b[1m4s\u001b[0m 2ms/step - accuracy: 0.7104 - loss: 0.6018 - val_accuracy: 0.7034 - val_loss: 0.6080\n",
      "Epoch 23/50\n",
      "\u001b[1m2246/2246\u001b[0m \u001b[32m━━━━━━━━━━━━━━━━━━━━\u001b[0m\u001b[37m\u001b[0m \u001b[1m4s\u001b[0m 2ms/step - accuracy: 0.7114 - loss: 0.6009 - val_accuracy: 0.7034 - val_loss: 0.6080\n",
      "Epoch 24/50\n",
      "\u001b[1m2246/2246\u001b[0m \u001b[32m━━━━━━━━━━━━━━━━━━━━\u001b[0m\u001b[37m\u001b[0m \u001b[1m4s\u001b[0m 2ms/step - accuracy: 0.7093 - loss: 0.6028 - val_accuracy: 0.7034 - val_loss: 0.6081\n",
      "Epoch 25/50\n",
      "\u001b[1m2246/2246\u001b[0m \u001b[32m━━━━━━━━━━━━━━━━━━━━\u001b[0m\u001b[37m\u001b[0m \u001b[1m4s\u001b[0m 2ms/step - accuracy: 0.7125 - loss: 0.5999 - val_accuracy: 0.7034 - val_loss: 0.6081\n",
      "Epoch 26/50\n",
      "\u001b[1m2246/2246\u001b[0m \u001b[32m━━━━━━━━━━━━━━━━━━━━\u001b[0m\u001b[37m\u001b[0m \u001b[1m4s\u001b[0m 2ms/step - accuracy: 0.7105 - loss: 0.6018 - val_accuracy: 0.7034 - val_loss: 0.6082\n",
      "Epoch 27/50\n",
      "\u001b[1m2246/2246\u001b[0m \u001b[32m━━━━━━━━━━━━━━━━━━━━\u001b[0m\u001b[37m\u001b[0m \u001b[1m4s\u001b[0m 2ms/step - accuracy: 0.7092 - loss: 0.6029 - val_accuracy: 0.7034 - val_loss: 0.6081\n",
      "Epoch 28/50\n",
      "\u001b[1m2246/2246\u001b[0m \u001b[32m━━━━━━━━━━━━━━━━━━━━\u001b[0m\u001b[37m\u001b[0m \u001b[1m4s\u001b[0m 2ms/step - accuracy: 0.7113 - loss: 0.6011 - val_accuracy: 0.7034 - val_loss: 0.6080\n",
      "Epoch 29/50\n",
      "\u001b[1m2246/2246\u001b[0m \u001b[32m━━━━━━━━━━━━━━━━━━━━\u001b[0m\u001b[37m\u001b[0m \u001b[1m4s\u001b[0m 2ms/step - accuracy: 0.7125 - loss: 0.5999 - val_accuracy: 0.7034 - val_loss: 0.6081\n",
      "Epoch 30/50\n",
      "\u001b[1m2246/2246\u001b[0m \u001b[32m━━━━━━━━━━━━━━━━━━━━\u001b[0m\u001b[37m\u001b[0m \u001b[1m4s\u001b[0m 2ms/step - accuracy: 0.7100 - loss: 0.6022 - val_accuracy: 0.7034 - val_loss: 0.6080\n",
      "Epoch 31/50\n",
      "\u001b[1m2246/2246\u001b[0m \u001b[32m━━━━━━━━━━━━━━━━━━━━\u001b[0m\u001b[37m\u001b[0m \u001b[1m4s\u001b[0m 2ms/step - accuracy: 0.7110 - loss: 0.6013 - val_accuracy: 0.7034 - val_loss: 0.6081\n",
      "Epoch 32/50\n",
      "\u001b[1m2246/2246\u001b[0m \u001b[32m━━━━━━━━━━━━━━━━━━━━\u001b[0m\u001b[37m\u001b[0m \u001b[1m4s\u001b[0m 2ms/step - accuracy: 0.7108 - loss: 0.6014 - val_accuracy: 0.7034 - val_loss: 0.6080\n",
      "Epoch 33/50\n",
      "\u001b[1m2246/2246\u001b[0m \u001b[32m━━━━━━━━━━━━━━━━━━━━\u001b[0m\u001b[37m\u001b[0m \u001b[1m4s\u001b[0m 2ms/step - accuracy: 0.7121 - loss: 0.6004 - val_accuracy: 0.7034 - val_loss: 0.6080\n",
      "Epoch 34/50\n",
      "\u001b[1m2246/2246\u001b[0m \u001b[32m━━━━━━━━━━━━━━━━━━━━\u001b[0m\u001b[37m\u001b[0m \u001b[1m4s\u001b[0m 2ms/step - accuracy: 0.7103 - loss: 0.6020 - val_accuracy: 0.7034 - val_loss: 0.6079\n",
      "Epoch 35/50\n",
      "\u001b[1m2246/2246\u001b[0m \u001b[32m━━━━━━━━━━━━━━━━━━━━\u001b[0m\u001b[37m\u001b[0m \u001b[1m4s\u001b[0m 2ms/step - accuracy: 0.7102 - loss: 0.6020 - val_accuracy: 0.7034 - val_loss: 0.6082\n",
      "Epoch 36/50\n",
      "\u001b[1m2246/2246\u001b[0m \u001b[32m━━━━━━━━━━━━━━━━━━━━\u001b[0m\u001b[37m\u001b[0m \u001b[1m4s\u001b[0m 2ms/step - accuracy: 0.7091 - loss: 0.6030 - val_accuracy: 0.7034 - val_loss: 0.6080\n",
      "Epoch 37/50\n",
      "\u001b[1m2246/2246\u001b[0m \u001b[32m━━━━━━━━━━━━━━━━━━━━\u001b[0m\u001b[37m\u001b[0m \u001b[1m4s\u001b[0m 2ms/step - accuracy: 0.7089 - loss: 0.6032 - val_accuracy: 0.7034 - val_loss: 0.6080\n",
      "Epoch 38/50\n",
      "\u001b[1m2246/2246\u001b[0m \u001b[32m━━━━━━━━━━━━━━━━━━━━\u001b[0m\u001b[37m\u001b[0m \u001b[1m4s\u001b[0m 2ms/step - accuracy: 0.7123 - loss: 0.6002 - val_accuracy: 0.7034 - val_loss: 0.6080\n",
      "Epoch 39/50\n",
      "\u001b[1m2246/2246\u001b[0m \u001b[32m━━━━━━━━━━━━━━━━━━━━\u001b[0m\u001b[37m\u001b[0m \u001b[1m4s\u001b[0m 2ms/step - accuracy: 0.7108 - loss: 0.6015 - val_accuracy: 0.7034 - val_loss: 0.6082\n",
      "Epoch 40/50\n",
      "\u001b[1m2246/2246\u001b[0m \u001b[32m━━━━━━━━━━━━━━━━━━━━\u001b[0m\u001b[37m\u001b[0m \u001b[1m4s\u001b[0m 2ms/step - accuracy: 0.7121 - loss: 0.6003 - val_accuracy: 0.7034 - val_loss: 0.6080\n",
      "Epoch 41/50\n",
      "\u001b[1m2246/2246\u001b[0m \u001b[32m━━━━━━━━━━━━━━━━━━━━\u001b[0m\u001b[37m\u001b[0m \u001b[1m4s\u001b[0m 2ms/step - accuracy: 0.7080 - loss: 0.6040 - val_accuracy: 0.7034 - val_loss: 0.6081\n",
      "Epoch 42/50\n",
      "\u001b[1m2246/2246\u001b[0m \u001b[32m━━━━━━━━━━━━━━━━━━━━\u001b[0m\u001b[37m\u001b[0m \u001b[1m4s\u001b[0m 2ms/step - accuracy: 0.7086 - loss: 0.6034 - val_accuracy: 0.7034 - val_loss: 0.6080\n",
      "Epoch 43/50\n",
      "\u001b[1m2246/2246\u001b[0m \u001b[32m━━━━━━━━━━━━━━━━━━━━\u001b[0m\u001b[37m\u001b[0m \u001b[1m4s\u001b[0m 2ms/step - accuracy: 0.7086 - loss: 0.6034 - val_accuracy: 0.7034 - val_loss: 0.6080\n",
      "Epoch 44/50\n",
      "\u001b[1m2246/2246\u001b[0m \u001b[32m━━━━━━━━━━━━━━━━━━━━\u001b[0m\u001b[37m\u001b[0m \u001b[1m4s\u001b[0m 2ms/step - accuracy: 0.7107 - loss: 0.6015 - val_accuracy: 0.7034 - val_loss: 0.6080\n",
      "Epoch 45/50\n",
      "\u001b[1m2246/2246\u001b[0m \u001b[32m━━━━━━━━━━━━━━━━━━━━\u001b[0m\u001b[37m\u001b[0m \u001b[1m4s\u001b[0m 2ms/step - accuracy: 0.7121 - loss: 0.6004 - val_accuracy: 0.7034 - val_loss: 0.6080\n",
      "Epoch 46/50\n",
      "\u001b[1m2246/2246\u001b[0m \u001b[32m━━━━━━━━━━━━━━━━━━━━\u001b[0m\u001b[37m\u001b[0m \u001b[1m4s\u001b[0m 2ms/step - accuracy: 0.7104 - loss: 0.6019 - val_accuracy: 0.7034 - val_loss: 0.6083\n",
      "Epoch 47/50\n",
      "\u001b[1m2246/2246\u001b[0m \u001b[32m━━━━━━━━━━━━━━━━━━━━\u001b[0m\u001b[37m\u001b[0m \u001b[1m4s\u001b[0m 2ms/step - accuracy: 0.7114 - loss: 0.6009 - val_accuracy: 0.7034 - val_loss: 0.6081\n",
      "Epoch 48/50\n",
      "\u001b[1m2246/2246\u001b[0m \u001b[32m━━━━━━━━━━━━━━━━━━━━\u001b[0m\u001b[37m\u001b[0m \u001b[1m4s\u001b[0m 2ms/step - accuracy: 0.7110 - loss: 0.6013 - val_accuracy: 0.7034 - val_loss: 0.6080\n",
      "Epoch 49/50\n",
      "\u001b[1m2246/2246\u001b[0m \u001b[32m━━━━━━━━━━━━━━━━━━━━\u001b[0m\u001b[37m\u001b[0m \u001b[1m4s\u001b[0m 2ms/step - accuracy: 0.7096 - loss: 0.6026 - val_accuracy: 0.7034 - val_loss: 0.6080\n",
      "Epoch 50/50\n",
      "\u001b[1m2246/2246\u001b[0m \u001b[32m━━━━━━━━━━━━━━━━━━━━\u001b[0m\u001b[37m\u001b[0m \u001b[1m4s\u001b[0m 2ms/step - accuracy: 0.7093 - loss: 0.6028 - val_accuracy: 0.7034 - val_loss: 0.6083\n",
      "Val Accuracy final: 0.7034\n"
     ]
    }
   ],
   "source": [
    "# Crear modelo secuencial\n",
    "model = tf.keras.Sequential([\n",
    "    norm,\n",
    "    tf.keras.layers.Dense(32, activation='relu', input_shape=(X_train.shape[1],)),  # Capa oculta con 64 neuronas\n",
    "    tf.keras.layers.Dense(y_cat.shape[1], activation='softmax') # Capa de salida\n",
    "])\n",
    "\n",
    "# Compilar el modelo\n",
    "model.compile(optimizer=Adam(learning_rate=0.001),\n",
    "              loss='categorical_crossentropy',\n",
    "              metrics=['accuracy'])\n",
    "\n",
    "# Guardar las columnas exactas usadas para entrenar el modelo\n",
    "columnas_modelo = X.columns.tolist()\n",
    "with open('columnas_modelo.pkl', 'wb') as f:\n",
    "    pickle.dump(columnas_modelo, f)\n",
    "    \n",
    "# Entrenar el modelo\n",
    "history = model.fit(X_train, y_train,\n",
    "                    epochs=50,\n",
    "                    batch_size=32,\n",
    "                    validation_split=0.2,\n",
    "                    verbose=1)\n",
    "\n",
    "# Mostrar última accuracy de validación\n",
    "val_accuracy = history.history['val_accuracy'][-1]\n",
    "print(f\"Val Accuracy final: {round(val_accuracy, 4)}\")"
   ]
  },
  {
   "cell_type": "code",
   "execution_count": 41,
   "id": "c6bec25e",
   "metadata": {},
   "outputs": [],
   "source": [
    "# Guarda el modelo\n",
    "model.save('modelo2.keras')"
   ]
  }
 ],
 "metadata": {
  "kernelspec": {
   "display_name": "Python 3",
   "language": "python",
   "name": "python3"
  },
  "language_info": {
   "codemirror_mode": {
    "name": "ipython",
    "version": 3
   },
   "file_extension": ".py",
   "mimetype": "text/x-python",
   "name": "python",
   "nbconvert_exporter": "python",
   "pygments_lexer": "ipython3",
   "version": "3.11.9"
  }
 },
 "nbformat": 4,
 "nbformat_minor": 5
}
